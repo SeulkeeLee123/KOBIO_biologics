{
 "cells": [
  {
   "cell_type": "code",
   "execution_count": 1,
   "metadata": {},
   "outputs": [],
   "source": [
    "#!/bin/python\n",
    "\n",
    "import sys\n",
    "import random\n",
    "import pandas as pd\n",
    "import numpy as np\n",
    "from sklearn.model_selection import StratifiedKFold\n",
    "from sklearn.ensemble import RandomForestClassifier\n",
    "import sklearn.metrics as metrics\n",
    "from numpy import interp\n",
    "import matplotlib.pyplot as plt\n",
    "from sklearn.metrics import precision_recall_curve\n",
    "from sklearn.metrics import f1_score\n",
    "from sklearn.metrics import plot_precision_recall_curve\n",
    "from sklearn import preprocessing\n",
    "from pathlib import Path\n",
    "from joblib import dump, load"
   ]
  },
  {
   "cell_type": "code",
   "execution_count": 2,
   "metadata": {},
   "outputs": [],
   "source": [
    "\n",
    "n_tree= 1000\n",
    "n_max_depth = 4\n",
    "n_min_samples_split = 3\n",
    "n_min_samples_leaf = 5\n",
    "list_seed = [547, 254, 758]\n",
    "\n",
    "# n_tree= 1000\n",
    "# n_max_depth = 7\n",
    "# n_min_samples_split = 3\n",
    "# n_min_samples_leaf = 5\n",
    "# list_seed = [419, 713, 13]\n",
    "\n",
    "prediction_variable = 'ACR20'\n",
    "\n",
    "std_cutoff = 0.05\n",
    "Path(\"./Models\").mkdir(parents=True, exist_ok=True)\n",
    "Path(\"./Models/RF\").mkdir(parents=True, exist_ok=True)\n",
    "\n",
    "df=pd.read_csv('./Input_data/RA_dataframe_initial_fu_20210112_naiveusers.txt', sep='\\t')\n",
    "\n",
    "if prediction_variable == 'DFT1':\n",
    "    df = df[df.DFT1 != 2]\n",
    "\n",
    "if prediction_variable == 'ACR20':\n",
    "    df=df[df.ACR20 != 3]\n",
    "\n",
    "colnames = df.columns\n",
    "result_column_list = ['newID', 'region', 'BSD', 'DFT1', 'DFT2', 'ACR20', 'ACR50', 'ACR70', 'EULAR']\n",
    "x_colnames_1 = [item for item in colnames if item not in result_column_list] \n",
    "# They are not needed because it means results"
   ]
  },
  {
   "cell_type": "code",
   "execution_count": 3,
   "metadata": {},
   "outputs": [],
   "source": [
    "df_training = df[(df.region!=1) & (df.region != 11)]\n",
    "df_independent = df[(df.region == 1) | (df.region == 11)]"
   ]
  },
  {
   "cell_type": "code",
   "execution_count": 5,
   "metadata": {},
   "outputs": [],
   "source": [
    "# 1) Training dataset\n",
    "\n",
    "df_training_remov_result = df_training[x_colnames_1] # pre-scaled data\n",
    "# Remove variables includes only one value.\n",
    "df_training_remov_novar = df_training_remov_result.loc[:,df_training_remov_result.std() != 0]\n",
    "\n",
    "# Remove variables includes only small variance.\n",
    "pre_scaler = preprocessing.MinMaxScaler()\n",
    "df_training_pre_scaled = pre_scaler.fit_transform(df_training_remov_novar)\n",
    "remain_boolean = df_training_pre_scaled.std(axis=0) >= std_cutoff\n",
    "colnames_remain = df_training_remov_novar.columns[remain_boolean]\n",
    "# colnames_remain will be used for independent data again.\n",
    "\n",
    "data_x_training_bf_scaling = df_training_remov_novar[colnames_remain].to_numpy()\n",
    "data_y_training = df_training[prediction_variable].to_numpy()"
   ]
  },
  {
   "cell_type": "code",
   "execution_count": 7,
   "metadata": {},
   "outputs": [
    {
     "name": "stdout",
     "output_type": "stream",
     "text": [
      "74\n"
     ]
    }
   ],
   "source": [
    "# print(len(colnames_remain))"
   ]
  },
  {
   "cell_type": "code",
   "execution_count": 5,
   "metadata": {},
   "outputs": [],
   "source": [
    "# 2) Independent dataset\n",
    "\n",
    "data_x_independent_bf_scaling = df_independent[colnames_remain].to_numpy()\n",
    "data_y_independent = df_independent[prediction_variable].to_numpy()"
   ]
  },
  {
   "cell_type": "code",
   "execution_count": 6,
   "metadata": {},
   "outputs": [
    {
     "name": "stdout",
     "output_type": "stream",
     "text": [
      "ACR20 1000 4 3 5\n",
      "model is saved\n",
      "model is saved\n",
      "model is saved\n",
      "ACR20 1000 4 3 5\n",
      "model is saved\n",
      "model is saved\n",
      "model is saved\n",
      "ACR20 1000 4 3 5\n",
      "model is saved\n",
      "model is saved\n",
      "model is saved\n"
     ]
    }
   ],
   "source": [
    "for seed in list_seed:\n",
    "                    \n",
    "    print(' '.join([prediction_variable, str(n_tree), str(n_max_depth), str(n_min_samples_split), str(n_min_samples_leaf)]))\n",
    "\n",
    "    cv = StratifiedKFold(n_splits=3, shuffle=True, random_state=seed)\n",
    "\n",
    "    i = 0\n",
    "\n",
    "    for train, test in cv.split(data_x_training_bf_scaling, data_y_training):\n",
    "\n",
    "        training_scaler = preprocessing.MinMaxScaler()\n",
    "\n",
    "        data_x_training_train = training_scaler.fit_transform(data_x_training_bf_scaling[train])\n",
    "        data_x_training_test = training_scaler.transform(data_x_training_bf_scaling[test])\n",
    "\n",
    "        model = RandomForestClassifier(n_estimators=n_tree, max_depth = n_max_depth, \n",
    "                                       min_samples_split = n_min_samples_split, min_samples_leaf = n_min_samples_leaf)\n",
    "        model.fit(data_x_training_train, data_y_training[train])\n",
    "        \n",
    "        dump(model, './Models/RF/RF_{0}_{1}_{2}_{3}_{4}_{5}_{6}.joblib'.format(\n",
    "            prediction_variable, n_tree, n_max_depth, n_min_samples_split, n_min_samples_leaf, seed, i + 1))\n",
    "        print('model is saved')\n",
    "        \n",
    "        i = i + 1\n"
   ]
  }
 ],
 "metadata": {
  "kernelspec": {
   "display_name": "Python 3",
   "language": "python",
   "name": "python3"
  },
  "language_info": {
   "codemirror_mode": {
    "name": "ipython",
    "version": 3
   },
   "file_extension": ".py",
   "mimetype": "text/x-python",
   "name": "python",
   "nbconvert_exporter": "python",
   "pygments_lexer": "ipython3",
   "version": "3.8.6"
  }
 },
 "nbformat": 4,
 "nbformat_minor": 2
}
